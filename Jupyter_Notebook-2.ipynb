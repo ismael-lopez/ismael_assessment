{
 "cells": [
  {
   "cell_type": "markdown",
   "metadata": {},
   "source": [
    "<center>\n",
    "    <img src=\"https://s3-api.us-geo.objectstorage.softlayer.net/cf-courses-data/CognitiveClass/Logos/organization_logo/organization_logo.png\" width=\"300\" alt=\"cognitiveclass.ai logo\"  />\n",
    "</center>\n"
   ]
  },
  {
   "cell_type": "markdown",
   "metadata": {},
   "source": [
    "#### Add your code below following the instructions given in the course\n"
   ]
  },
  {
   "cell_type": "markdown",
   "metadata": {},
   "source": [
    "# My Jupyter Notebook on IBM Watson Studio"
   ]
  },
  {
   "cell_type": "markdown",
   "metadata": {
    "tags": []
   },
   "source": [
    "**Ismael**\n",
    "\n",
    "Computational linguist"
   ]
  },
  {
   "cell_type": "markdown",
   "metadata": {
    "tags": []
   },
   "source": [
    "*I am interested in data science because I've always had a research oriented way of thinking. I have always loved working with data bases, analyzing the outputs and proving different hypotheses. There is a huge demand of computational linguists with data science background in order to perform all different analyses.*"
   ]
  },
  {
   "cell_type": "markdown",
   "metadata": {},
   "source": [
    "### My code will repeat three times \"data science\""
   ]
  },
  {
   "cell_type": "code",
   "execution_count": 3,
   "metadata": {},
   "outputs": [
    {
     "name": "stdout",
     "output_type": "stream",
     "text": [
      "Data Science Data Science Data Science \n"
     ]
    }
   ],
   "source": [
    "a = \"Data Science \" * 3\n",
    "\n",
    "print(a)"
   ]
  },
  {
   "cell_type": "markdown",
   "metadata": {},
   "source": [
    "* * *\n",
    "#### Applications of Natural Language Processing:\n",
    "   - Smart assistants.\n",
    "   - Text Analytics.\n",
    "   - And more...\n",
    "\n",
    "*Chart with the languages of Data Sience:*\n",
    "\n",
    "| Pyhton | R | SQL |\n",
    "| --- | --- | --- |\n",
    "| databases, automation, web scraping, text processing and more | statisticians, mathematicians, data miners and more  | querying and managing data |\n",
    "\n",
    "*The data for this table has been gathered from IBM's course of Data Science in:* [\"Tools for data science\"](https://www.coursera.org/learn/open-source-tools-for-data-science/)\n",
    "\n"
   ]
  },
  {
   "cell_type": "code",
   "execution_count": null,
   "metadata": {},
   "outputs": [],
   "source": []
  }
 ],
 "metadata": {
  "kernelspec": {
   "display_name": "Python",
   "language": "python",
   "name": "conda-env-python-py"
  },
  "language_info": {
   "codemirror_mode": {
    "name": "ipython",
    "version": 3
   },
   "file_extension": ".py",
   "mimetype": "text/x-python",
   "name": "python",
   "nbconvert_exporter": "python",
   "pygments_lexer": "ipython3",
   "version": "3.7.12"
  }
 },
 "nbformat": 4,
 "nbformat_minor": 4
}
